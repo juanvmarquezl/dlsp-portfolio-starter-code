{
 "cells": [
  {
   "cell_type": "code",
   "execution_count": 1,
   "metadata": {},
   "outputs": [],
   "source": [
    "import numpy as np\n",
    "import pandas as pd\n",
    "from keras.layers import Dense\n",
    "import matplotlib.pyplot as plt\n",
    "import tensorflow as tf\n",
    "from tensorflow.keras.layers import Dense, InputLayer\n",
    "from tensorflow.keras.models import Sequential\n",
    "from sklearn.model_selection import train_test_split\n",
    "from sklearn.preprocessing import StandardScaler\n"
   ]
  },
  {
   "cell_type": "code",
   "execution_count": 2,
   "metadata": {},
   "outputs": [],
   "source": [
    "df = pd.read_csv('cover_data.csv')\n",
    "\n",
    "label_col = 'class'\n",
    "X = df.drop(columns =[label_col])\n",
    "y = df[label_col]\n",
    "\n",
    "X_train, X_test, y_train, y_test = train_test_split(X, y, test_size=0.20, random_state=42, stratify=y)\n",
    "\n",
    "scaler = StandardScaler()\n",
    "#scaler.fit(X_train)\n",
    "\n",
    "# Transform the training data\n",
    "X_train_scaled = scaler.fit_transform(X_train)\n",
    "# Transform the test data\n",
    "X_test_scaled = scaler.transform(X_test)\n"
   ]
  },
  {
   "cell_type": "code",
   "execution_count": 3,
   "metadata": {},
   "outputs": [],
   "source": [
    "model = Sequential(name='TreeClassifier',)\n",
    "\n",
    "model_input_size = X.shape[1]\n",
    "model.add(InputLayer(input_shape=(model_input_size,), name='Input' ))\n",
    "model.add(Dense(model_input_size, activation='relu', name='Hidden_1'))\n",
    "model.add(Dense(model_input_size, activation='relu', name='Hidden_2'))\n",
    "model.add(Dense(model_input_size // 2, activation='relu', name='Hidden_3'))\n",
    "model.add(Dense(model_input_size // 2, activation='relu', name='Hidden_4'))\n",
    "model.add(Dense(8, activation='softmax'))\n",
    "\n",
    "model.compile(optimizer='adam', loss='sparse_categorical_crossentropy', metrics=['accuracy'])\n",
    "\n",
    "# print(model.summary())\n"
   ]
  },
  {
   "cell_type": "code",
   "execution_count": 4,
   "metadata": {},
   "outputs": [
    {
     "name": "stdout",
     "output_type": "stream",
     "text": [
      "Epoch 1/30\n",
      "2325/2325 [==============================] - 8s 3ms/step - loss: 0.5919 - accuracy: 0.7481\n",
      "Epoch 2/30\n",
      "2325/2325 [==============================] - 7s 3ms/step - loss: 0.4813 - accuracy: 0.7930\n",
      "Epoch 3/30\n",
      "2325/2325 [==============================] - 7s 3ms/step - loss: 0.4418 - accuracy: 0.8139\n",
      "Epoch 4/30\n",
      "2325/2325 [==============================] - 7s 3ms/step - loss: 0.4148 - accuracy: 0.8267\n",
      "Epoch 5/30\n",
      "2325/2325 [==============================] - 8s 3ms/step - loss: 0.3948 - accuracy: 0.8359\n",
      "Epoch 6/30\n",
      "2325/2325 [==============================] - 9s 4ms/step - loss: 0.3789 - accuracy: 0.8430\n",
      "Epoch 7/30\n",
      "2325/2325 [==============================] - 7s 3ms/step - loss: 0.3663 - accuracy: 0.8491\n",
      "Epoch 8/30\n",
      "2325/2325 [==============================] - 7s 3ms/step - loss: 0.3562 - accuracy: 0.8531\n",
      "Epoch 9/30\n",
      "2325/2325 [==============================] - 7s 3ms/step - loss: 0.3471 - accuracy: 0.8573\n",
      "Epoch 10/30\n",
      "2325/2325 [==============================] - 6s 3ms/step - loss: 0.3396 - accuracy: 0.8606\n",
      "Epoch 11/30\n",
      "2325/2325 [==============================] - 8s 4ms/step - loss: 0.3333 - accuracy: 0.8635\n",
      "Epoch 12/30\n",
      "2325/2325 [==============================] - 6s 2ms/step - loss: 0.3260 - accuracy: 0.8668\n",
      "Epoch 13/30\n",
      "2325/2325 [==============================] - 5s 2ms/step - loss: 0.3214 - accuracy: 0.8684\n",
      "Epoch 14/30\n",
      "2325/2325 [==============================] - 5s 2ms/step - loss: 0.3171 - accuracy: 0.8704\n",
      "Epoch 15/30\n",
      "2325/2325 [==============================] - 4s 2ms/step - loss: 0.3129 - accuracy: 0.8722\n",
      "Epoch 16/30\n",
      "2325/2325 [==============================] - 4s 2ms/step - loss: 0.3083 - accuracy: 0.8747\n",
      "Epoch 17/30\n",
      "2325/2325 [==============================] - 4s 2ms/step - loss: 0.3046 - accuracy: 0.8764\n",
      "Epoch 18/30\n",
      "2325/2325 [==============================] - 5s 2ms/step - loss: 0.3013 - accuracy: 0.8778\n",
      "Epoch 19/30\n",
      "2325/2325 [==============================] - 4s 2ms/step - loss: 0.2988 - accuracy: 0.8785\n",
      "Epoch 20/30\n",
      "2325/2325 [==============================] - 4s 2ms/step - loss: 0.2958 - accuracy: 0.8800\n",
      "Epoch 21/30\n",
      "2325/2325 [==============================] - 4s 2ms/step - loss: 0.2935 - accuracy: 0.8815\n",
      "Epoch 22/30\n",
      "2325/2325 [==============================] - 4s 2ms/step - loss: 0.2913 - accuracy: 0.8825\n",
      "Epoch 23/30\n",
      "2325/2325 [==============================] - 5s 2ms/step - loss: 0.2880 - accuracy: 0.8836\n",
      "Epoch 24/30\n",
      "2325/2325 [==============================] - 5s 2ms/step - loss: 0.2859 - accuracy: 0.8844\n",
      "Epoch 25/30\n",
      "2325/2325 [==============================] - 4s 2ms/step - loss: 0.2837 - accuracy: 0.8854\n",
      "Epoch 26/30\n",
      "2325/2325 [==============================] - 4s 2ms/step - loss: 0.2808 - accuracy: 0.8867\n",
      "Epoch 27/30\n",
      "2325/2325 [==============================] - 4s 2ms/step - loss: 0.2797 - accuracy: 0.8871\n",
      "Epoch 28/30\n",
      "2325/2325 [==============================] - 4s 2ms/step - loss: 0.2771 - accuracy: 0.8882\n",
      "Epoch 29/30\n",
      "2325/2325 [==============================] - 4s 2ms/step - loss: 0.2758 - accuracy: 0.8888\n",
      "Epoch 30/30\n",
      "2325/2325 [==============================] - 4s 2ms/step - loss: 0.2740 - accuracy: 0.8895\n"
     ]
    },
    {
     "data": {
      "image/png": "[encoded data removed]",
      "text/plain": [
       "<Figure size 640x480 with 1 Axes>"
      ]
     },
     "metadata": {},
     "output_type": "display_data"
    }
   ],
   "source": [
    "history = model.fit(X_train_scaled, y_train, epochs=30, batch_size=200, verbose=1)\n",
    "val_mse, val_mae = model.evaluate(X_test_scaled, y_test, verbose=0)\n",
    "\n",
    "plt.plot(history.history['loss'], label='loss')\n",
    "plt.plot(history.history['accuracy'], label='accuracy')\n",
    "plt.xlabel('Epoch')\n",
    "plt.ylabel('Loss/accuracy')\n",
    "plt.legend()\n",
    "plt.show()"
   ]
  },
  {
   "cell_type": "code",
   "execution_count": 5,
   "metadata": {},
   "outputs": [
    {
     "name": "stderr",
     "output_type": "stream",
     "text": [
      "c:\\Users\\AdminIT\\source\\repos\\python3\\dlsp-portfolio-starter-code\\venv\\lib\\site-packages\\keras\\src\\engine\\training.py:3079: UserWarning: You are saving your model as an HDF5 file via `model.save()`. This file format is considered legacy. We recommend using instead the native Keras format, e.g. `model.save('my_model.keras')`.\n",
      "  saving_api.save_model(\n"
     ]
    }
   ],
   "source": [
    "model.save('forest_cover_classification.h5')"
   ]
  }
 ],
 "metadata": {
  "kernelspec": {
   "display_name": "venv",
   "language": "python",
   "name": "python3"
  },
  "language_info": {
   "codemirror_mode": {
    "name": "ipython",
    "version": 3
   },
   "file_extension": ".py",
   "mimetype": "text/x-python",
   "name": "python",
   "nbconvert_exporter": "python",
   "pygments_lexer": "ipython3",
   "version": "3.10.5"
  }
 },
 "nbformat": 4,
 "nbformat_minor": 4
}
